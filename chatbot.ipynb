{
 "cells": [
  {
   "cell_type": "code",
   "execution_count": 5,
   "id": "f914321d",
   "metadata": {},
   "outputs": [],
   "source": [
    "# tools\n",
    "\n",
    "from langchain_community.tools import ArxivQueryRun,WikipediaQueryRun\n",
    "from langchain_community.utilities import WikipediaAPIWrapper,ArxivAPIWrapper\n"
   ]
  },
  {
   "cell_type": "code",
   "execution_count": 6,
   "id": "773efac0",
   "metadata": {},
   "outputs": [
    {
     "name": "stdout",
     "output_type": "stream",
     "text": [
      "arxiv\n"
     ]
    }
   ],
   "source": [
    "api_wrapper_arxiv = ArxivAPIWrapper(top_k_results=2,doc_content_chars_max=500)\n",
    "arxiv= ArxivQueryRun(api_wrapper=api_wrapper_arxiv,description=\"Query Arxiv papers\")\n",
    "print(arxiv.name)"
   ]
  },
  {
   "cell_type": "code",
   "execution_count": 7,
   "id": "2ceaed43",
   "metadata": {},
   "outputs": [],
   "source": [
    "# arxiv.invoke(\"What is the latest research on quantum computing?\")"
   ]
  },
  {
   "cell_type": "code",
   "execution_count": 8,
   "id": "ea49162d",
   "metadata": {},
   "outputs": [
    {
     "data": {
      "text/plain": [
       "'wikipedia'"
      ]
     },
     "execution_count": 8,
     "metadata": {},
     "output_type": "execute_result"
    }
   ],
   "source": [
    "api_wrapper_wiki = WikipediaAPIWrapper(top_k_results=2,doc_content_chars_max=500)\n",
    "wiki= WikipediaQueryRun(api_wrapper=api_wrapper_wiki)\n",
    "wiki.name"
   ]
  },
  {
   "cell_type": "code",
   "execution_count": 9,
   "id": "8f86376f",
   "metadata": {},
   "outputs": [],
   "source": [
    "from dotenv import load_dotenv\n",
    "load_dotenv()\n",
    "\n",
    "import os\n",
    "\n",
    "os.environ[\"TAVILY_API_KEY\"] =os.getenv(\"TAVILY_API_KEY\")\n",
    "os.environ[\"GROQ_API_KEY\"] =os.getenv(\"GROQ_API_KEY\")"
   ]
  },
  {
   "cell_type": "code",
   "execution_count": 10,
   "id": "f7204fea",
   "metadata": {},
   "outputs": [
    {
     "name": "stderr",
     "output_type": "stream",
     "text": [
      "C:\\Users\\91931\\AppData\\Local\\Temp\\ipykernel_2824\\1677934665.py:4: LangChainDeprecationWarning: The class `TavilySearchResults` was deprecated in LangChain 0.3.25 and will be removed in 1.0. An updated version of the class exists in the :class:`~langchain-tavily package and should be used instead. To use it run `pip install -U :class:`~langchain-tavily` and import as `from :class:`~langchain_tavily import TavilySearch``.\n",
      "  tavily = TavilySearchResults()\n"
     ]
    }
   ],
   "source": [
    "# tavily search tools\n",
    "from langchain_community.tools.tavily_search import TavilySearchResults\n",
    "\n",
    "tavily = TavilySearchResults()"
   ]
  },
  {
   "cell_type": "code",
   "execution_count": 11,
   "id": "1a6410dd",
   "metadata": {},
   "outputs": [
    {
     "data": {
      "text/plain": [
       "[{'title': 'What are AI Agents? Definition, Types, Applications, and Benefits',\n",
       "  'url': 'https://www.prismetric.com/what-are-ai-agents/',\n",
       "  'content': 'FAQs\\n----\\n\\n### What is an AI agent?\\n\\nAn AI agent is an autonomous system that can perform tasks, make decisions, and adapt based on data, goals, and user feedback. It operates independently, handling processes across industries like software development, customer service, healthcare, and more — all without constant human intervention.\\n\\n### What do AI agents do?',\n",
       "  'score': 0.9470345},\n",
       " {'title': '10 Real-World AI Agent Examples in 2025 - chatbase.co',\n",
       "  'url': 'https://www.chatbase.co/blog/ai-agent-examples',\n",
       "  'content': 'An AI agent is a computer program designed to perceive its environment, make decisions, and take actions to achieve specific goals.\\n\\nUnlike traditional software, AI agents can operate autonomously, learn from experiences, and adapt their behavior over time.\\n\\nThey combine sensors to gather data, processors to analyze information, and actuators to interact with their environment.',\n",
       "  'score': 0.9418739},\n",
       " {'title': 'What Are AI Agents? | IBM',\n",
       "  'url': 'https://www.ibm.com/think/topics/ai-agents',\n",
       "  'content': '# What are AI agents?\\n\\n## Authors\\n\\nAI Engineer, Developer Advocate\\n\\nIBM\\n\\n## What are AI agents?\\n\\nAn artificial intelligence (AI) agent refers to a system or program that is capable of autonomously performing tasks on behalf of a user or another system by designing its workflow and utilizing available tools. [...] With the ongoing advancements in generative AI and machine learning, there is a growing interest in workflow optimization using AI, or intelligent automation. AI agents are AI tools that can automate complex tasks that would otherwise require human resources. This translates to goals being reached inexpensively, rapidly and at scale. In turn, these advancements mean human agents do not need to provide direction to the AI assistant for creating and navigating its tasks.\\n\\n### Greater performance',\n",
       "  'score': 0.93425745},\n",
       " {'title': 'What are AI Agents? | Definition from TechTarget',\n",
       "  'url': 'https://www.techtarget.com/searchenterpriseai/definition/AI-agents',\n",
       "  'content': \"User experience. AI agents are conversational systems that deliver a dynamic, engaging user experience by handling multi-turn conversations and offering personalized responses based on user behavior and preferences. They can learn and respond to humans in a more natural, human-like manner. [...] Functionality. AI agents are advanced systems capable of performing and adapting to a wide range of tasks autonomously. They're designed to augment human capabilities and can operate across various domains, not just customer service. [...] Autonomous vehicles. AI agents enable autonomous vehicles to operate with limited human intervention. These intelligent systems make informed decisions, such as when to turn or brake by perceiving the vehicle's surroundings. By using AI sensors, AI agents detect stop signs, navigate unfamiliar terrain and adapt to changing environmental conditions.\",\n",
       "  'score': 0.9301101},\n",
       " {'title': 'What is Agents? Definition, Types of Agents, and Examples | AI Agent ...',\n",
       "  'url': 'https://medium.com/ai-agent-insider/what-is-an-agent-definition-types-of-agents-and-examples-3d1996358a88',\n",
       "  'content': 'AI agents are computer programs designed to perform tasks autonomously by making decisions based on their environment and predefined goals. Unlike traditional automation tools, AI agents can think, adapt, and act independently. They function as digital strategists, continuously analyzing data, tailoring interactions, and driving efficiency. The concept of AI agents is a significant step towards achieving Artificial General Intelligence (AGI), where machines can handle any intellectual task a',\n",
       "  'score': 0.9252368}]"
      ]
     },
     "execution_count": 11,
     "metadata": {},
     "output_type": "execute_result"
    }
   ],
   "source": [
    "tavily.invoke(\"What is ai agent\")"
   ]
  },
  {
   "cell_type": "code",
   "execution_count": 12,
   "id": "39fb8e19",
   "metadata": {},
   "outputs": [],
   "source": [
    "#combine all tools\n",
    "tools = [arxiv, wiki, tavily]"
   ]
  },
  {
   "cell_type": "code",
   "execution_count": 13,
   "id": "93b09ac3",
   "metadata": {},
   "outputs": [],
   "source": [
    "#intinlizing the llm model\n",
    "from langchain_groq import ChatGroq\n",
    "\n",
    "llm = ChatGroq(model=\"qwen-qwq-32b\")"
   ]
  },
  {
   "cell_type": "code",
   "execution_count": 14,
   "id": "17f51fd1",
   "metadata": {},
   "outputs": [
    {
     "data": {
      "text/plain": [
       "AIMessage(content='\\n<think>\\nOkay, the user is asking, \"What is AI agent?\" Let me start by breaking down the term. AI stands for Artificial Intelligence, so an AI agent would be an entity that uses AI. But I need to be precise here. An AI agent is a computer system that can perceive its environment through sensors and actuators, and then perform actions to achieve specific goals.\\n\\nWait, maybe I should explain the components first. Perception and action are key here. So, the agent takes in information from the environment, processes it, and then decides on an action. That\\'s the basic cycle: sense, think, act. \\n\\nI should mention that AI agents can be simple or complex. Simple ones might be like a thermostat that turns heating on or off based on temperature. More complex examples could be chatbots, self-driving cars, or recommendation systems like those on Netflix or Amazon.\\n\\nAlso, it\\'s important to note the types of AI agents. There are different categories based on their problem-solving approaches. For instance, a reflex agent acts based on current perceptions, a model-based agent uses a model of the environment to predict outcomes, and a utility-based agent considers the best action based on maximizing some utility function. Goal-based agents aim to achieve specific goals. Maybe I should list these types briefly.\\n\\nApplications are crucial here. The user might want to know real-world uses. So examples like chatbots (like Siri or Alexa), recommendation systems, autonomous vehicles, and even game-playing AI like AlphaGo. These examples make it concrete for the user.\\n\\nI should also touch on the capabilities. AI agents can handle tasks that require learning from data, decision-making under uncertainty, adapting to new information, and interacting with the environment. But I need to clarify that they are limited by their programming and data. They follow the instructions given, so ethical considerations are part of their design.\\n\\nWait, maybe I should start with a simple definition first before diving into details. Let me structure this step by step. Start with a definition, then break down the components (perception, action, goal), explain the types, give examples, and then talk about applications and considerations.\\n\\nAlso, the user might be confused between an AI agent and an AI system in general. An agent is more about the autonomous entity that acts within an environment. So distinguishing that from broader AI concepts is important.\\n\\nI should also mention that AI agents can be rule-based or use machine learning. So some agents follow predefined rules, while others learn from data. That adds another layer of complexity to their types.\\n\\nHmm, maybe include a basic structure: an agent has a performance measure (how well it\\'s doing), environment, actuators, sensors. So the agent\\'s goal is to maximize its performance measure by interacting with the environment.\\n\\nWait, I need to make sure I\\'m not getting too technical. The user might be a beginner, so I should explain terms like sensors and actuators in simple terms. Sensors are like the inputs the agent receives, and actuators are the actions it can take.\\n\\nAlso, contrasting with non-AI agents? Maybe not necessary here. Just focus on the key points.\\n\\nLet me outline the structure:\\n\\n1. Definition of AI agent.\\n2. Key components: sensors, actuators, processing (sense, think, act).\\n3. Types of AI agents (simple reflex, model-based, utility-based, learning agents, etc.).\\n4. Examples of AI agents in real life.\\n5. Applications and uses.\\n6. Capabilities and limitations.\\n7. Ethical considerations or design aspects.\\n\\nThat seems comprehensive. Let me ensure I cover each part without getting too jargon-heavy. Use clear examples. Maybe start with an everyday example like a thermostat to make it relatable.\\n\\nAlso, mention that AI agents can operate in virtual environments (like chatbots) or real-world environments (like robots). They can be software or hardware-based.\\n\\nWait, the user might be confused between an AI agent and an AI model. The agent is the entity that uses the model to take actions. The model is the part that processes data, but the agent is the whole system that acts.\\n\\nAlright, putting it all together in a clear, step-by-step explanation without assuming prior knowledge. Use simple language and examples to illustrate each point. Make sure to highlight the autonomy and goal-directed behavior of AI agents.\\n</think>\\n\\nAn **AI agent** is a computer system or program designed to perceive its environment through sensors (or data inputs), process information, and take actions to achieve specific goals. It operates autonomously, making decisions based on its programming and the data it receives. Here\\'s a detailed breakdown:\\n\\n---\\n\\n### **Key Components of an AI Agent**\\n1. **Sensors/Inputs**:  \\n   - The agent gathers information from its environment (e.g., cameras, microphones, data streams, or user inputs).  \\n   - Example: A self-driving car uses sensors like cameras and LiDAR to \"see\" the road.\\n\\n2. **Processing/Decision-Making**:  \\n   - The AI analyzes the data to determine the best action. This involves algorithms, machine learning models, or predefined rules.  \\n   - Example: A chatbot processes user questions to generate responses.\\n\\n3. **Actuators/Actions**:  \\n   - The agent performs an action to achieve its goal. This could be physical (e.g., a robot arm moving) or digital (e.g., sending an email, recommending a movie).\\n\\n4. **Goal/Optimization**:  \\n   - Every AI agent has an objective, such as maximizing profit, minimizing errors, or completing a task efficiently.\\n\\n---\\n\\n### **Types of AI Agents**\\nDifferent agents use varying strategies to achieve their goals:\\n1. **Simple Reflex Agent**:  \\n   - Acts based solely on current inputs without considering history.  \\n   - Example: A thermostat turning on/off based on temperature.\\n\\n2. **Model-Based Agent**:  \\n   - Uses a \"model\" of the environment to predict outcomes before acting.  \\n   - Example: A weather prediction system forecasting rain to suggest carrying an umbrella.\\n\\n3. **Utility-Based Agent**:  \\n   - Chooses actions that maximize a predefined \"utility function.\"  \\n   - Example: A recommendation system prioritizing movies a user is likely to enjoy.\\n\\n4. **Learning Agent**:  \\n   - Adapts and improves over time through experience (e.g., machine learning).  \\n   - Example: A spam filter that learns to identify new types of spam emails.\\n\\n5. **Goal-Based Agent**:  \\n   - Focuses on achieving specific goals (e.g., solving a puzzle, reaching a destination).  \\n   - Example: A navigation app finding the shortest route to a destination.\\n\\n---\\n\\n### **Real-World Examples of AI Agents**\\n- **Virtual Assistants**: Siri, Alexa, or Google Assistant (process voice commands and respond).  \\n- **Self-Driving Cars**: Perceive road conditions and adjust speed/steering.  \\n- **Chatbots**: Customer service bots (e.g., on websites) that answer questions.  \\n- **Recommendation Systems**: Netflix or Amazon suggesting products based on behavior.  \\n- **Game Bots**: AI opponents in video games (e.g., chess engines like Deep Blue).  \\n- **Industrial Robots**: Automating manufacturing tasks using sensors and actuators.\\n\\n---\\n\\n### **Applications**\\nAI agents are used in:\\n- **Healthcare**: Diagnosing diseases, managing patient records, or surgical robots.  \\n- **Finance**: Fraud detection, algorithmic trading, or credit scoring.  \\n- **Customer Service**: Handling inquiries 24/7 via chatbots.  \\n- **Entertainment**: Personalized content recommendations or AI-driven art creation.  \\n- **Logistics**: Optimizing supply chains or delivery routes.\\n\\n---\\n\\n### **Capabilities & Limitations**\\n- **Strengths**:  \\n  - Can process vast amounts of data quickly.  \\n  - Operate 24/7 without fatigue.  \\n  - Handle repetitive or dangerous tasks (e.g., disaster response robots).  \\n\\n- **Limitations**:  \\n  - Relies on the quality of data and programming.  \\n  - May lack understanding of context or ethics (e.g., bias in facial recognition).  \\n  - Requires ongoing maintenance and updates.\\n\\n---\\n\\n### **Ethical Considerations**\\n- **Bias and Fairness**: Agents can inherit biases from training data.  \\n- **Privacy**: Collecting data (e.g., voice assistants) raises privacy concerns.  \\n- **Accountability**: Determining responsibility if an agent makes a harmful decision (e.g., self-driving car accidents).\\n\\n---\\n\\n### **Key Takeaway**\\nAn AI agent is a self-contained system designed to \"act intelligently\" in its environment. Its effectiveness depends on how well it perceives, processes, and acts to achieve its goals. From simple thermostats to complex autonomous systems, these agents are shaping industries and daily life by automating tasks and improving decision-making.', additional_kwargs={}, response_metadata={'token_usage': {'completion_tokens': 1811, 'prompt_tokens': 14, 'total_tokens': 1825, 'completion_time': 4.479202488, 'prompt_time': 0.002947499, 'queue_time': 0.24357816200000001, 'total_time': 4.482149987}, 'model_name': 'qwen-qwq-32b', 'system_fingerprint': 'fp_98b01f25b2', 'finish_reason': 'stop', 'logprobs': None}, id='run--cdd9b70d-8269-4f4d-96e4-89c2ef9ff415-0', usage_metadata={'input_tokens': 14, 'output_tokens': 1811, 'total_tokens': 1825})"
      ]
     },
     "execution_count": 14,
     "metadata": {},
     "output_type": "execute_result"
    }
   ],
   "source": [
    "llm.invoke(\"What is ai agent\")"
   ]
  },
  {
   "cell_type": "code",
   "execution_count": 15,
   "id": "d01b79ce",
   "metadata": {},
   "outputs": [],
   "source": [
    "llm_with_tools = llm.bind_tools(tools=tools)"
   ]
  },
  {
   "cell_type": "code",
   "execution_count": 16,
   "id": "326d9a20",
   "metadata": {},
   "outputs": [
    {
     "data": {
      "text/plain": [
       "AIMessage(content='', additional_kwargs={'reasoning_content': 'Okay, the user is asking \"What is ai agent\". Let me break this down. They want to understand the concept of an AI agent. First, I need to define what an AI agent is. Since I might not remember all the details, I should use the tools provided to get accurate information.\\n\\nLooking at the available tools: arxiv, wikipedia, and tavily_search_results_json. Wikipedia could be a good start because it often has clear explanations of concepts. The arXiv function might give research papers, which could be too technical. Tavily\\'s search results might provide a variety of sources, but Wikipedia is more likely to have a straightforward definition.\\n\\nSo I\\'ll start with the Wikipedia function. The parameter is \"query\", so I\\'ll set the query to \"AI agent\" or maybe \"Artificial intelligence agent\". Let me check if \"AI agent\" is the exact term used in Wikipedia. If not, maybe \"intelligent agent\" is the proper term. Hmm, maybe \"agent (computing)\" could be another term. To be safe, I\\'ll use \"AI agent\" as the query and see if that brings up the right page. If not, perhaps the function will handle redirection or the response will give me more clues.\\n\\nAlternatively, maybe \"AI agent\" is commonly referred to in the context of AI, so the Wikipedia entry might exist. Let me proceed with the Wikipedia tool first. The function call would be {\"name\": \"wikipedia\", \"arguments\": {\"query\": \"AI agent\"}}. \\n\\nWait, but sometimes the exact term might not be there, so maybe \"artificial intelligence agent\" is better. Let me adjust the query to \"Artificial intelligence agent\". That might be more precise. Alternatively, \"agent (computing)\" might cover it. Hmm, perhaps the user\\'s term is more general. Let me go with \"AI agent\" first. If that doesn\\'t work, the tool might still find a related page. \\n\\nAlternatively, maybe using Tavily\\'s search results would give more comprehensive info from various sources, but since the user just wants a definition, Wikipedia is probably sufficient. I\\'ll go with the Wikipedia function first. Let\\'s structure the tool call accordingly.\\n', 'tool_calls': [{'id': 'n4nm8p2s9', 'function': {'arguments': '{\"query\":\"AI agent\"}', 'name': 'wikipedia'}, 'type': 'function'}]}, response_metadata={'token_usage': {'completion_tokens': 474, 'prompt_tokens': 266, 'total_tokens': 740, 'completion_time': 1.170457735, 'prompt_time': 0.017338446, 'queue_time': 0.243258292, 'total_time': 1.187796181}, 'model_name': 'qwen-qwq-32b', 'system_fingerprint': 'fp_98b01f25b2', 'finish_reason': 'tool_calls', 'logprobs': None}, id='run--5542b18a-b174-488c-91ea-35d69a5c6a33-0', tool_calls=[{'name': 'wikipedia', 'args': {'query': 'AI agent'}, 'id': 'n4nm8p2s9', 'type': 'tool_call'}], usage_metadata={'input_tokens': 266, 'output_tokens': 474, 'total_tokens': 740})"
      ]
     },
     "execution_count": 16,
     "metadata": {},
     "output_type": "execute_result"
    }
   ],
   "source": [
    "llm_with_tools.invoke(\"What is ai agent\")"
   ]
  },
  {
   "cell_type": "code",
   "execution_count": 17,
   "id": "b27b5676",
   "metadata": {},
   "outputs": [],
   "source": [
    "#WORKFLOW\n",
    "from typing_extensions import TypedDict\n",
    "from langchain_core.messages import AnyMessage\n",
    "from typing import Annotated\n",
    "from langgraph.graph.message import add_messages\n",
    "\n"
   ]
  },
  {
   "cell_type": "code",
   "execution_count": 18,
   "id": "ae6e8157",
   "metadata": {},
   "outputs": [],
   "source": [
    "class state(TypedDict):\n",
    "    messages: Annotated[list[AnyMessage], add_messages]"
   ]
  },
  {
   "cell_type": "code",
   "execution_count": 19,
   "id": "1f428703",
   "metadata": {},
   "outputs": [],
   "source": [
    "#entire chatbot with langraph\n",
    "from IPython.display import display, IFrame\n",
    "from langgraph.graph import StateGraph, START, END\n",
    "from langgraph.prebuilt import ToolNode\n",
    "from langgraph.prebuilt import tools_condition"
   ]
  },
  {
   "cell_type": "code",
   "execution_count": 20,
   "id": "da154e2c",
   "metadata": {},
   "outputs": [
    {
     "data": {
      "image/png": "[encoded data removed]",
      "text/plain": [
       "<IPython.core.display.Image object>"
      ]
     },
     "metadata": {},
     "output_type": "display_data"
    }
   ],
   "source": [
    "# nood definition\n",
    "def tool_calling_llm(state: state):\n",
    "    return {\"messages\":[llm_with_tools.invoke(state[\"messages\"])]}\n",
    "\n",
    "# Buid Graph\n",
    "builder = StateGraph(state)\n",
    "builder.add_node(\"tool_calling_llm\", tool_calling_llm)\n",
    "builder.add_node(\"tools\", ToolNode(tools))\n",
    "\n",
    "#edgess\n",
    "\n",
    "builder.add_edge(START, \"tool_calling_llm\")\n",
    "builder.add_conditional_edges(\"tool_calling_llm\", tools_condition)\n",
    "\n",
    "builder.add_edge(\"tools\", END)\n",
    "\n",
    "graph = builder.compile()\n",
    "\n",
    "#view graph\n",
    "\n",
    "\n",
    "from IPython.display import Image, display\n",
    "\n",
    "# Assuming `graph` is already created and built\n",
    "display(Image(graph.get_graph().draw_mermaid_png()))\n"
   ]
  },
  {
   "cell_type": "code",
   "execution_count": 24,
   "id": "9d55d6f6",
   "metadata": {},
   "outputs": [
    {
     "name": "stdout",
     "output_type": "stream",
     "text": [
      "================================\u001b[1m Human Message \u001b[0m=================================\n",
      "\n",
      "in 2025 which fild choose cse or AI ml?\n",
      "==================================\u001b[1m Ai Message \u001b[0m==================================\n",
      "Tool Calls:\n",
      "  tavily_search_results_json (fkgeq9zxj)\n",
      " Call ID: fkgeq9zxj\n",
      "  Args:\n",
      "    query: 2023-2025 job market trends for Computer Science Engineering (CSE) vs Artificial Intelligence/Machine Learning (AI/ML) career opportunities salary growth\n",
      "  arxiv (2hxgnpqch)\n",
      " Call ID: 2hxgnpqch\n",
      "  Args:\n",
      "    query: Recent advancements in AI/ML and their impact on core computer science disciplines\n",
      "  wikipedia (ahxv6ek06)\n",
      " Call ID: ahxv6ek06\n",
      "  Args:\n",
      "    query: Artificial intelligence economic impact\n",
      "  wikipedia (h4qy7wqca)\n",
      " Call ID: h4qy7wqca\n",
      "  Args:\n",
      "    query: Computer science engineering career paths\n",
      "=================================\u001b[1m Tool Message \u001b[0m=================================\n",
      "Name: tavily_search_results_json\n",
      "\n",
      "[{\"title\": \"CS vs AIML in 2025: Future Trends, Salaries, and Opportunities\", \"url\": \"https://www.analyticsinsight.net/tech-news/cs-vs-aiml-in-2025-future-trends-salaries-and-opportunities\", \"content\": \"Conclusion\\n--------------\\n\\nBoth computer science (CS) and artificial intelligence/machine learning (AIML) are expected to experience significant growth in the future, with abundant job opportunities and high-paying positions emerging by 2025. The increasing adoption of AI and machine learning across various industries will create a strong demand for professionals in these fields. [...] Image 3: CS vs AIML in 2025: Future Trends, Salaries, and Opportunities \\n\\nImage 4: Harshini Chakka\\n\\nHarshini Chakka\\n\\nPublished on:\\n\\n27 Dec 2024, 3:15 pm\\n\\n   \\n   Copied \\n\\nThe dawn of 2025 promises a new era of rapid growth and innovation in Computer Science (CS) and Artificial Intelligence/Machine Learning (AIML). Emerging technologies like quantum computing, natural language processing, and explainable AI will likely transform industries and create new opportunities. [...] Over the next year, explosive demand for skilled professionals, skyrocketing salaries, and unprecedented innovation are expected to reshape the landscape of these dynamic fields. The future of CS and AIML holds tremendous promise, with key trends, salary projections, and career paths set to define the trajectory of these fields.\\n\\nFuture Tech Trends in CS vs AIML\\n------------------------------------\\n\\n### Integration of AI and Machine Learning Across Industries\", \"score\": 0.9132521}, {\"title\": \"AI Jobs Salary in 2025: Top Roles, Trends & Global Pay Data\", \"url\": \"https://www.liftmycv.com/blog/artificial-intelligence-jobs-salary/\", \"content\": \"AI engineer salaries have risen by more than $50,000 compared to last year. Meanwhile, the U.S. Bureau of Labor Statistics predicts a 26% growth in computer and information technology jobs from 2023 to 2033. To take advantage of this growth, focus on learning emerging technologies and earning certifications like Google ML Engineer or AWS ML Specialty to showcase your expertise. Staying flexible and keeping up with industry changes will be critical as the AI field continues to evolve.\", \"score\": 0.7304634}, {\"title\": \"Artificial Intelligence and Machine Learning Job Trends in 2025\", \"url\": \"https://www.simplilearn.com/rise-of-ai-and-machine-learning-job-trends-article\", \"content\": \"The distinction between AI and ML is crucial, with AI focusing on creating systems that can perform tasks requiring human intelligence, while ML is a subset of AI that enables computers to learn from data. Both fields offer promising career opportunities, reflecting a rapidly growing job market. AI and machine learning jobs have grown significantly, with machine learning jobs particularly cited as the second most sought-after AI jobs. This demand is fueled by the broader application of these [...] The expanding AI and ML job market offers a wide range of career opportunities, from machine learning engineers and data scientists to AI research scientists and AI application developers. Skills in demand include programming (especially in Python), data analytics, machine learning theory, and the practical application of AI technologies in business settings. Moreover, professionals are increasingly needed to manage AI projects, including deploying, monitoring, and maintaining AI systems in\", \"score\": 0.7099254}, {\"title\": \"Computer Science Job Market 2025: Oversaturation and Trends\", \"url\": \"https://uecampus.com/blog/computer-science-job-market-2025-oversaturation-and-trends\", \"content\": \"Cybersecurity: As cyberattacks grow more sophisticated, businesses need cybersecurity analysts to safeguard digital assets.\\n   Data Science: The rise of data-driven decision-making has boosted demand for data scientists and data engineers who can extract insights from large datasets.\\n   Artificial Intelligence & Machine Learning: AI/ML engineers are in demand to build intelligent systems, from recommendation engines to autonomous vehicles. [...] The computer science job market in 2025 is far from being saturated. While there is an increasing number of graduates, the demand for tech professionals continues to grow, driven by technological advancements and the digital transformation of industries. By focusing on skill development, gaining practical experience, and exploring diverse career paths, computer science graduates can successfully navigate the job market and find rewarding opportunities. [...] In summary, the computer science job market remains vibrant and full of potential for those willing to invest in their education and skill development. By staying informed and adaptable, job seekers can thrive in this exciting field. The future of technology promises continued growth and innovation, offering countless opportunities for those prepared to seize them.\\n\\n← Back to Blogs\", \"score\": 0.7055624}, {\"title\": \"Machine Learning Engineer Salary: Expected Trends in 2025 - Caltech\", \"url\": \"https://pg-p.ctme.caltech.edu/blog/ai-ml/machine-learning-engineer-salary-trends\", \"content\": \"The U.S. Board of Labor Statisticspredicts computer occupations will grow at approximately 13 percent over ten years, ending in 2026. This forecast is for IT positions in general, but we can infer from these figures that machine learning will enjoy the same level of growth. In addition,NASDAQ predicts that the artificial intelligence and machine learning industries are the disruptive technologies of tomorrow and are shifting into high gear, poised to grow to $20 billion by 2025.\", \"score\": 0.70214266}]\n",
      "=================================\u001b[1m Tool Message \u001b[0m=================================\n",
      "Name: arxiv\n",
      "\n",
      "Published: 2024-07-31\n",
      "Title: Navigating Fairness: Practitioners' Understanding, Challenges, and Strategies in AI/ML Development\n",
      "Authors: Aastha Pant, Rashina Hoda, Chakkrit Tantithamthavorn, Burak Turhan\n",
      "Summary: The rise in the use of AI/ML applications across industries has sparked more\n",
      "discussions about the fairness of AI/ML in recent times. While prior research\n",
      "on the fairness of AI/ML exists, there is a lack of empirical studies focused\n",
      "on understanding the perspectives and experiences of A\n",
      "=================================\u001b[1m Tool Message \u001b[0m=================================\n",
      "Name: wikipedia\n",
      "\n",
      "Page: Environmental impact of artificial intelligence\n",
      "Summary: The environmental impact of artificial intelligence includes substantial energy consumption for training and using deep learning models, and the related carbon footprint and water usage. Some scientists have suggested that artificial intelligence (AI) may also provide solutions to environmental problems.\n",
      "\n",
      "Page: Artificial Intelligence Act\n",
      "Summary: The Artificial Intelligence Act (AI Act) is a European Union regulation concerning arti\n",
      "=================================\u001b[1m Tool Message \u001b[0m=================================\n",
      "Name: wikipedia\n",
      "\n",
      "Page: Software engineering\n",
      "Summary: Software engineering is a branch of both computer science and engineering focused on designing, developing, testing, and maintaining software applications. It involves applying engineering principles and computer programming expertise to develop software systems that meet user needs.\n",
      "The terms programmer and coder overlap software engineer, but they imply only the construction aspect of a typical software engineer workload.\n",
      "A software engineer applies a softwa\n"
     ]
    }
   ],
   "source": [
    "messages = graph.invoke({\"messages\":\"in 2025 which fild choose cse or AI ml?\"}) \n",
    "for message in messages[\"messages\"]:\n",
    "    message.pretty_print()"
   ]
  },
  {
   "cell_type": "code",
   "execution_count": null,
   "id": "dddfd146",
   "metadata": {},
   "outputs": [],
   "source": []
  }
 ],
 "metadata": {
  "kernelspec": {
   "display_name": "Python 3",
   "language": "python",
   "name": "python3"
  },
  "language_info": {
   "codemirror_mode": {
    "name": "ipython",
    "version": 3
   },
   "file_extension": ".py",
   "mimetype": "text/x-python",
   "name": "python",
   "nbconvert_exporter": "python",
   "pygments_lexer": "ipython3",
   "version": "3.12.3"
  }
 },
 "nbformat": 4,
 "nbformat_minor": 5
}
